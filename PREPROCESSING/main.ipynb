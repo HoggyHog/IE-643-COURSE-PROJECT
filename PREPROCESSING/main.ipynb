{
 "cells": [
  {
   "cell_type": "code",
   "execution_count": 6,
   "metadata": {},
   "outputs": [],
   "source": [
    "from pathlib import Path # pathlib for easy path handling\n",
    "import pydicom # pydicom to handle dicom files\n",
    "import matplotlib.pyplot as plt\n",
    "import numpy as np\n",
    "import dicom2nifti # to convert DICOM files to the NIftI format\n",
    "import nibabel as nib # nibabel to handle nifti files"
   ]
  },
  {
   "cell_type": "code",
   "execution_count": 80,
   "metadata": {},
   "outputs": [
    {
     "name": "stdout",
     "output_type": "stream",
     "text": [
      "100\n"
     ]
    }
   ],
   "source": [
    "import os\n",
    "import shutil\n",
    "\n",
    "path='./CT1/dicom_dir/'\n",
    "new_dir='./eg'\n",
    "\n",
    "c=0\n",
    "for file in os.listdir(path):\n",
    "    c+=1\n",
    "    file_path=os.path.join(path,file)\n",
    "    NEW_DIR=os.path.join(new_dir,str(c))\n",
    "    os.makedirs(NEW_DIR)\n",
    "    NEW_PATH=os.path.join(NEW_DIR,file)\n",
    "     \n",
    "    shutil.copy(file_path, NEW_PATH)\n",
    "print(c)"
   ]
  },
  {
   "cell_type": "code",
   "execution_count": 86,
   "metadata": {},
   "outputs": [
    {
     "name": "stdout",
     "output_type": "stream",
     "text": [
      "100\n"
     ]
    }
   ],
   "source": [
    "import SimpleITK as sitk\n",
    "path='./eg'\n",
    "c=0\n",
    "for folder in os.listdir(path):\n",
    "    c+=1\n",
    "    \n",
    "    folder_path=os.path.join(path,folder)\n",
    "    \n",
    "    reader = sitk.ImageSeriesReader()\n",
    "    dicom_names = reader.GetGDCMSeriesFileNames(folder_path)\n",
    "    reader.SetFileNames(dicom_names)\n",
    "    image = reader.Execute()\n",
    "\n",
    "    # Added a call to PermuteAxes to change the axes of the data\n",
    "    image = sitk.PermuteAxes(image, [2, 1, 0])\n",
    "    name=str(c)+'.nii.gz'\n",
    "    image_path=os.path.join('./CT_nii',name)\n",
    "\n",
    "    sitk.WriteImage(image, image_path )\n",
    "    \n",
    "print(c)\n"
   ]
  },
  {
   "cell_type": "code",
   "execution_count": 108,
   "metadata": {},
   "outputs": [],
   "source": [
    "import numpy as np \n",
    "from PIL import Image as im\n",
    "\n",
    "path='./CT_nii'\n",
    "c=0\n",
    "for nii in os.listdir(path):\n",
    "    c+=1\n",
    "    nii_path=os.path.join(path,nii)\n",
    "    nifti = nib.load(nii_path) \n",
    "    nifti.header[\"qoffset_x\"] \n",
    "\n",
    "    head_mri = nifti.get_fdata()\n",
    "    #plt.imshow(head_mri[0])\n",
    "    \n",
    "    data = im.fromarray(head_mri[0]) \n",
    "    data = data.convert(\"L\")\n",
    "    #data.show()\n",
    "    #break\n",
    "\n",
    "    #print(f\"Image saved to {file_path}\")\n",
    "\n",
    "    file_name=str(c)+'.png'\n",
    "    save_path=os.path.join('./CT_img/',file_name)\n",
    "    data.save(save_path) \n",
    "\n",
    "\n",
    "\n",
    "    "
   ]
  },
  {
   "cell_type": "markdown",
   "metadata": {},
   "source": [
    "NOW DOING IT FOR THE MANIFEST FOLDER"
   ]
  },
  {
   "cell_type": "code",
   "execution_count": 14,
   "metadata": {},
   "outputs": [
    {
     "name": "stdout",
     "output_type": "stream",
     "text": [
      "180\n"
     ]
    }
   ],
   "source": [
    "import os\n",
    "import shutil\n",
    "\n",
    "\n",
    "path='./manifest-1700905217198/Lung-PET-CT-Dx/Lung_Dx-G0062/01-26-2011-NA-PET03CBMWholebodyFirstHead Adult-23744/20.000000-ALPHA Range2-57433'\n",
    "\n",
    "new_dir='./eg7'\n",
    "\n",
    "c=0\n",
    "for file in os.listdir(path):\n",
    "    c+=1\n",
    "    file_path=os.path.join(path,file)\n",
    "    NEW_DIR=os.path.join(new_dir,str(c))\n",
    "    os.makedirs(NEW_DIR)\n",
    "    NEW_PATH=os.path.join(NEW_DIR,file)\n",
    "     \n",
    "    shutil.copy(file_path, NEW_PATH)\n",
    "print(c)"
   ]
  },
  {
   "cell_type": "code",
   "execution_count": 15,
   "metadata": {},
   "outputs": [
    {
     "name": "stdout",
     "output_type": "stream",
     "text": [
      "180\n"
     ]
    }
   ],
   "source": [
    "import SimpleITK as sitk\n",
    "path='./eg7'\n",
    "c=0\n",
    "for folder in os.listdir(path):\n",
    "    c+=1\n",
    "    \n",
    "    folder_path=os.path.join(path,folder)\n",
    "    \n",
    "    reader = sitk.ImageSeriesReader()\n",
    "    dicom_names = reader.GetGDCMSeriesFileNames(folder_path)\n",
    "    reader.SetFileNames(dicom_names)\n",
    "    image = reader.Execute()\n",
    "\n",
    "    # Added a call to PermuteAxes to change the axes of the data\n",
    "    image = sitk.PermuteAxes(image, [2, 1, 0])\n",
    "    name=str(c)+'.nii.gz'\n",
    "    image_path=os.path.join('./CT_nii_7',name)\n",
    "\n",
    "    sitk.WriteImage(image, image_path )\n",
    "    \n",
    "print(c)\n"
   ]
  },
  {
   "cell_type": "code",
   "execution_count": 4,
   "metadata": {},
   "outputs": [],
   "source": [
    "count=822"
   ]
  },
  {
   "cell_type": "code",
   "execution_count": 22,
   "metadata": {},
   "outputs": [],
   "source": [
    "import numpy as np \n",
    "from PIL import Image as im\n",
    "\n",
    "path='./CT_nii_5'\n",
    "\n",
    "for nii in os.listdir(path):\n",
    "    count+=1\n",
    "    nii_path=os.path.join(path,nii)\n",
    "    nifti = nib.load(nii_path) \n",
    "    nifti.header[\"qoffset_x\"] \n",
    "\n",
    "    head_mri = nifti.get_fdata()\n",
    "    #plt.imshow(head_mri[0])\n",
    "    \n",
    "    data = im.fromarray(head_mri[0]) \n",
    "    data = data.convert(\"L\")\n",
    "    #data.show()\n",
    "    #break\n",
    "\n",
    "    #print(f\"Image saved to {file_path}\")\n",
    "\n",
    "    file_name=str(count)+'.png'\n",
    "    save_path=os.path.join('./CT_img_1',file_name)\n",
    "    data.save(save_path) \n",
    "\n",
    "\n",
    "\n",
    "    "
   ]
  },
  {
   "cell_type": "code",
   "execution_count": 23,
   "metadata": {},
   "outputs": [
    {
     "name": "stdout",
     "output_type": "stream",
     "text": [
      "2987\n"
     ]
    }
   ],
   "source": [
    "fin_c=0\n",
    "for i in os.listdir('./CT_img_1/'):\n",
    "    fin_c+=1\n",
    "print(fin_c)"
   ]
  },
  {
   "cell_type": "code",
   "execution_count": null,
   "metadata": {},
   "outputs": [],
   "source": []
  }
 ],
 "metadata": {
  "kernelspec": {
   "display_name": "segm",
   "language": "python",
   "name": "python3"
  },
  "language_info": {
   "codemirror_mode": {
    "name": "ipython",
    "version": 3
   },
   "file_extension": ".py",
   "mimetype": "text/x-python",
   "name": "python",
   "nbconvert_exporter": "python",
   "pygments_lexer": "ipython3",
   "version": "3.8.18"
  }
 },
 "nbformat": 4,
 "nbformat_minor": 2
}
