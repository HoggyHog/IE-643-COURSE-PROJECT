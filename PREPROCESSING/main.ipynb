{
 "cells": [
  {
   "cell_type": "code",
   "execution_count": 17,
   "metadata": {},
   "outputs": [],
   "source": [
    "import os\n",
    "from PIL import Image\n",
    "\n",
    "c=0\n",
    "final_dir='./images'"
   ]
  },
  {
   "cell_type": "code",
   "execution_count": 18,
   "metadata": {},
   "outputs": [],
   "source": [
    "main_path='./masks/kaggle_3m'\n",
    "\n",
    "for folder in os.listdir(main_path):\n",
    "    \n",
    "    if(folder=='data.csv' or folder=='README.md'):\n",
    "        continue\n",
    "    subfolder=os.path.join(main_path,folder)\n",
    "    for file in os.listdir(subfolder):\n",
    "        if(file[-8]!='m'):\n",
    "            c+=1\n",
    "            tiff_img=Image.open(os.path.join(subfolder,file))\n",
    "\n",
    "            # Save the image in another format (e.g., JPEG)\n",
    "            output_path = f'result{c}.jpg'\n",
    "            tiff_img.save(os.path.join(final_dir,output_path))"
   ]
  },
  {
   "cell_type": "code",
   "execution_count": 20,
   "metadata": {},
   "outputs": [],
   "source": [
    "main_path='./masks/lgg-mri-segmentation/kaggle_3m'\n",
    "\n",
    "for folder in os.listdir(main_path):\n",
    "    \n",
    "    if(folder=='data.csv' or folder=='README.md'):\n",
    "        continue\n",
    "    subfolder=os.path.join(main_path,folder)\n",
    "    for file in os.listdir(subfolder):\n",
    "        if(file[-8]!='m'):\n",
    "            c+=1\n",
    "            tiff_img=Image.open(os.path.join(subfolder,file))\n",
    "\n",
    "            # Save the image in another format (e.g., JPEG)\n",
    "            output_path = f'result{c}.jpg'\n",
    "            tiff_img.save(os.path.join(final_dir,output_path))"
   ]
  },
  {
   "cell_type": "code",
   "execution_count": 6,
   "metadata": {},
   "outputs": [],
   "source": [
    "\n",
    "# Open the TIFF file\n",
    "tiff_path = './masks/kaggle_3m/TCGA_CS_4941_19960909/TCGA_CS_4941_19960909_2_mask.tif'\n",
    "\n",
    "tiff_path2='./masks/kaggle_3m/TCGA_CS_4941_19960909/TCGA_CS_4941_19960909_1.tif'\n",
    "tiff_image = Image.open(tiff_path)\n",
    "\n",
    "tiff_img2=Image.open(tiff_path2)\n",
    "\n",
    "# Save the image in another format (e.g., JPEG)\n",
    "output_path = 'result1.jpg'\n",
    "tiff_img2.save(output_path)"
   ]
  },
  {
   "cell_type": "code",
   "execution_count": 21,
   "metadata": {},
   "outputs": [
    {
     "name": "stdout",
     "output_type": "stream",
     "text": [
      "7858\n"
     ]
    }
   ],
   "source": [
    "final_count=0\n",
    "\n",
    "for i in os.listdir(final_dir):\n",
    "    final_count+=1\n",
    "print(final_count)"
   ]
  },
  {
   "cell_type": "code",
   "execution_count": null,
   "metadata": {},
   "outputs": [],
   "source": []
  }
 ],
 "metadata": {
  "kernelspec": {
   "display_name": "segm",
   "language": "python",
   "name": "python3"
  },
  "language_info": {
   "codemirror_mode": {
    "name": "ipython",
    "version": 3
   },
   "file_extension": ".py",
   "mimetype": "text/x-python",
   "name": "python",
   "nbconvert_exporter": "python",
   "pygments_lexer": "ipython3",
   "version": "3.8.18"
  }
 },
 "nbformat": 4,
 "nbformat_minor": 2
}
